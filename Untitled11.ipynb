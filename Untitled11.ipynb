{
  "nbformat": 4,
  "nbformat_minor": 0,
  "metadata": {
    "colab": {
      "name": "BillGates_Tweets.ipynb",
      "provenance": [],
      "authorship_tag": "ABX9TyPZuQxZ+EXeHSatnmljHCYB",
      "include_colab_link": true
    },
    "kernelspec": {
      "name": "python3",
      "display_name": "Python 3"
    }
  },
  "cells": [
    {
      "cell_type": "markdown",
      "metadata": {
        "id": "view-in-github",
        "colab_type": "text"
      },
      "source": [
        "<a href=\"https://colab.research.google.com/github/Munindar123/coursera-test/blob/master/Untitled11.ipynb\" target=\"_parent\"><img src=\"https://colab.research.google.com/assets/colab-badge.svg\" alt=\"Open In Colab\"/></a>"
      ]
    },
    {
      "cell_type": "code",
      "metadata": {
        "id": "J9oCZSihfumo",
        "colab_type": "code",
        "colab": {}
      },
      "source": [
        "import pandas as pd\n",
        "import matplotlib.pyplot as plt\n",
        "import numpy as np\n",
        "from textblob import TextBlob\n",
        "from wordcloud import WordCloud\n"
      ],
      "execution_count": 0,
      "outputs": []
    },
    {
      "cell_type": "code",
      "metadata": {
        "id": "olrAldJSgC3A",
        "colab_type": "code",
        "colab": {}
      },
      "source": [
        "df = pd.read_csv(\"Gates_3.csv\")"
      ],
      "execution_count": 0,
      "outputs": []
    },
    {
      "cell_type": "code",
      "metadata": {
        "id": "uunNqBCRgKIB",
        "colab_type": "code",
        "colab": {
          "base_uri": "https://localhost:8080/",
          "height": 518
        },
        "outputId": "46555690-4997-4d3f-98c0-f040dca6ebb0"
      },
      "source": [
        "df.head()"
      ],
      "execution_count": 50,
      "outputs": [
        {
          "output_type": "execute_result",
          "data": {
            "text/html": [
              "<div>\n",
              "<style scoped>\n",
              "    .dataframe tbody tr th:only-of-type {\n",
              "        vertical-align: middle;\n",
              "    }\n",
              "\n",
              "    .dataframe tbody tr th {\n",
              "        vertical-align: top;\n",
              "    }\n",
              "\n",
              "    .dataframe thead th {\n",
              "        text-align: right;\n",
              "    }\n",
              "</style>\n",
              "<table border=\"1\" class=\"dataframe\">\n",
              "  <thead>\n",
              "    <tr style=\"text-align: right;\">\n",
              "      <th></th>\n",
              "      <th>id</th>\n",
              "      <th>conversation_id</th>\n",
              "      <th>created_at</th>\n",
              "      <th>date</th>\n",
              "      <th>time</th>\n",
              "      <th>timezone</th>\n",
              "      <th>user_id</th>\n",
              "      <th>username</th>\n",
              "      <th>name</th>\n",
              "      <th>place</th>\n",
              "      <th>tweet</th>\n",
              "      <th>mentions</th>\n",
              "      <th>urls</th>\n",
              "      <th>photos</th>\n",
              "      <th>replies_count</th>\n",
              "      <th>retweets_count</th>\n",
              "      <th>likes_count</th>\n",
              "      <th>hashtags</th>\n",
              "      <th>cashtags</th>\n",
              "      <th>link</th>\n",
              "      <th>retweet</th>\n",
              "      <th>quote_url</th>\n",
              "      <th>video</th>\n",
              "      <th>near</th>\n",
              "      <th>geo</th>\n",
              "      <th>source</th>\n",
              "      <th>user_rt_id</th>\n",
              "      <th>user_rt</th>\n",
              "      <th>retweet_id</th>\n",
              "      <th>reply_to</th>\n",
              "      <th>retweet_date</th>\n",
              "      <th>translate</th>\n",
              "      <th>trans_src</th>\n",
              "      <th>trans_dest</th>\n",
              "    </tr>\n",
              "  </thead>\n",
              "  <tbody>\n",
              "    <tr>\n",
              "      <th>0</th>\n",
              "      <td>1263152510845571072</td>\n",
              "      <td>1263152510845571072</td>\n",
              "      <td>1589994001000</td>\n",
              "      <td>2020-05-20</td>\n",
              "      <td>22:30:01</td>\n",
              "      <td>India Standard Time</td>\n",
              "      <td>50393960</td>\n",
              "      <td>billgates</td>\n",
              "      <td>Bill Gates</td>\n",
              "      <td>NaN</td>\n",
              "      <td>The 1918 influenza outbreak is the closest com...</td>\n",
              "      <td>[]</td>\n",
              "      <td>['https://gatesnot.es/2XeN3pJ']</td>\n",
              "      <td>[]</td>\n",
              "      <td>1605</td>\n",
              "      <td>1356</td>\n",
              "      <td>8553</td>\n",
              "      <td>[]</td>\n",
              "      <td>[]</td>\n",
              "      <td>https://twitter.com/BillGates/status/126315251...</td>\n",
              "      <td>False</td>\n",
              "      <td>NaN</td>\n",
              "      <td>0</td>\n",
              "      <td>NaN</td>\n",
              "      <td>NaN</td>\n",
              "      <td>NaN</td>\n",
              "      <td>NaN</td>\n",
              "      <td>NaN</td>\n",
              "      <td>NaN</td>\n",
              "      <td>[{'user_id': '50393960', 'username': 'BillGate...</td>\n",
              "      <td>NaN</td>\n",
              "      <td>NaN</td>\n",
              "      <td>NaN</td>\n",
              "      <td>NaN</td>\n",
              "    </tr>\n",
              "    <tr>\n",
              "      <th>1</th>\n",
              "      <td>1262433965434122243</td>\n",
              "      <td>1262433965434122243</td>\n",
              "      <td>1589822686000</td>\n",
              "      <td>2020-05-18</td>\n",
              "      <td>22:54:46</td>\n",
              "      <td>India Standard Time</td>\n",
              "      <td>50393960</td>\n",
              "      <td>billgates</td>\n",
              "      <td>Bill Gates</td>\n",
              "      <td>NaN</td>\n",
              "      <td>Most of my conversations these days are about ...</td>\n",
              "      <td>[]</td>\n",
              "      <td>['https://gatesnot.es/3bI6FaT']</td>\n",
              "      <td>[]</td>\n",
              "      <td>2782</td>\n",
              "      <td>2836</td>\n",
              "      <td>18271</td>\n",
              "      <td>[]</td>\n",
              "      <td>[]</td>\n",
              "      <td>https://twitter.com/BillGates/status/126243396...</td>\n",
              "      <td>False</td>\n",
              "      <td>NaN</td>\n",
              "      <td>0</td>\n",
              "      <td>NaN</td>\n",
              "      <td>NaN</td>\n",
              "      <td>NaN</td>\n",
              "      <td>NaN</td>\n",
              "      <td>NaN</td>\n",
              "      <td>NaN</td>\n",
              "      <td>[{'user_id': '50393960', 'username': 'BillGate...</td>\n",
              "      <td>NaN</td>\n",
              "      <td>NaN</td>\n",
              "      <td>NaN</td>\n",
              "      <td>NaN</td>\n",
              "    </tr>\n",
              "    <tr>\n",
              "      <th>2</th>\n",
              "      <td>1261041440404062208</td>\n",
              "      <td>1260981700672147457</td>\n",
              "      <td>1589490683000</td>\n",
              "      <td>2020-05-15</td>\n",
              "      <td>02:41:23</td>\n",
              "      <td>India Standard Time</td>\n",
              "      <td>50393960</td>\n",
              "      <td>billgates</td>\n",
              "      <td>Bill Gates</td>\n",
              "      <td>NaN</td>\n",
              "      <td>Thank you for the conversation and partnership...</td>\n",
              "      <td>['narendramodi', 'gatesfoundation', 'pmoindia']</td>\n",
              "      <td>[]</td>\n",
              "      <td>[]</td>\n",
              "      <td>366</td>\n",
              "      <td>1475</td>\n",
              "      <td>14813</td>\n",
              "      <td>[]</td>\n",
              "      <td>[]</td>\n",
              "      <td>https://twitter.com/BillGates/status/126104144...</td>\n",
              "      <td>False</td>\n",
              "      <td>NaN</td>\n",
              "      <td>0</td>\n",
              "      <td>NaN</td>\n",
              "      <td>NaN</td>\n",
              "      <td>NaN</td>\n",
              "      <td>NaN</td>\n",
              "      <td>NaN</td>\n",
              "      <td>NaN</td>\n",
              "      <td>[{'user_id': '50393960', 'username': 'BillGate...</td>\n",
              "      <td>NaN</td>\n",
              "      <td>NaN</td>\n",
              "      <td>NaN</td>\n",
              "      <td>NaN</td>\n",
              "    </tr>\n",
              "    <tr>\n",
              "      <th>3</th>\n",
              "      <td>1260374775144251393</td>\n",
              "      <td>1260374775144251393</td>\n",
              "      <td>1589331737000</td>\n",
              "      <td>2020-05-13</td>\n",
              "      <td>06:32:17</td>\n",
              "      <td>India Standard Time</td>\n",
              "      <td>50393960</td>\n",
              "      <td>billgates</td>\n",
              "      <td>Bill Gates</td>\n",
              "      <td>NaN</td>\n",
              "      <td>I’m hopeful that this program will improve our...</td>\n",
              "      <td>[]</td>\n",
              "      <td>['https://gatesnot.es/2AfADpF']</td>\n",
              "      <td>[]</td>\n",
              "      <td>3947</td>\n",
              "      <td>1108</td>\n",
              "      <td>8900</td>\n",
              "      <td>[]</td>\n",
              "      <td>[]</td>\n",
              "      <td>https://twitter.com/BillGates/status/126037477...</td>\n",
              "      <td>False</td>\n",
              "      <td>NaN</td>\n",
              "      <td>0</td>\n",
              "      <td>NaN</td>\n",
              "      <td>NaN</td>\n",
              "      <td>NaN</td>\n",
              "      <td>NaN</td>\n",
              "      <td>NaN</td>\n",
              "      <td>NaN</td>\n",
              "      <td>[{'user_id': '50393960', 'username': 'BillGate...</td>\n",
              "      <td>NaN</td>\n",
              "      <td>NaN</td>\n",
              "      <td>NaN</td>\n",
              "      <td>NaN</td>\n",
              "    </tr>\n",
              "    <tr>\n",
              "      <th>4</th>\n",
              "      <td>1257729137697054726</td>\n",
              "      <td>1257729137697054726</td>\n",
              "      <td>1588700968000</td>\n",
              "      <td>2020-05-05</td>\n",
              "      <td>23:19:28</td>\n",
              "      <td>India Standard Time</td>\n",
              "      <td>50393960</td>\n",
              "      <td>billgates</td>\n",
              "      <td>Bill Gates</td>\n",
              "      <td>NaN</td>\n",
              "      <td>Class of 2020, these are not easy times. But w...</td>\n",
              "      <td>[]</td>\n",
              "      <td>['https://gatesnot.es/3flEOQV']</td>\n",
              "      <td>[]</td>\n",
              "      <td>3706</td>\n",
              "      <td>1907</td>\n",
              "      <td>15740</td>\n",
              "      <td>[]</td>\n",
              "      <td>[]</td>\n",
              "      <td>https://twitter.com/BillGates/status/125772913...</td>\n",
              "      <td>False</td>\n",
              "      <td>NaN</td>\n",
              "      <td>0</td>\n",
              "      <td>NaN</td>\n",
              "      <td>NaN</td>\n",
              "      <td>NaN</td>\n",
              "      <td>NaN</td>\n",
              "      <td>NaN</td>\n",
              "      <td>NaN</td>\n",
              "      <td>[{'user_id': '50393960', 'username': 'BillGate...</td>\n",
              "      <td>NaN</td>\n",
              "      <td>NaN</td>\n",
              "      <td>NaN</td>\n",
              "      <td>NaN</td>\n",
              "    </tr>\n",
              "  </tbody>\n",
              "</table>\n",
              "</div>"
            ],
            "text/plain": [
              "                    id      conversation_id  ...  trans_src trans_dest\n",
              "0  1263152510845571072  1263152510845571072  ...        NaN        NaN\n",
              "1  1262433965434122243  1262433965434122243  ...        NaN        NaN\n",
              "2  1261041440404062208  1260981700672147457  ...        NaN        NaN\n",
              "3  1260374775144251393  1260374775144251393  ...        NaN        NaN\n",
              "4  1257729137697054726  1257729137697054726  ...        NaN        NaN\n",
              "\n",
              "[5 rows x 34 columns]"
            ]
          },
          "metadata": {
            "tags": []
          },
          "execution_count": 50
        }
      ]
    },
    {
      "cell_type": "code",
      "metadata": {
        "id": "zYwEnfvNgOrN",
        "colab_type": "code",
        "colab": {}
      },
      "source": [
        "text = df.iloc[:,[10]]"
      ],
      "execution_count": 0,
      "outputs": []
    },
    {
      "cell_type": "code",
      "metadata": {
        "id": "qN5CxXYxgdkE",
        "colab_type": "code",
        "colab": {
          "base_uri": "https://localhost:8080/",
          "height": 195
        },
        "outputId": "18b87c1c-3b9e-463b-ce86-675fa56a9d8d"
      },
      "source": [
        "text.head()"
      ],
      "execution_count": 52,
      "outputs": [
        {
          "output_type": "execute_result",
          "data": {
            "text/html": [
              "<div>\n",
              "<style scoped>\n",
              "    .dataframe tbody tr th:only-of-type {\n",
              "        vertical-align: middle;\n",
              "    }\n",
              "\n",
              "    .dataframe tbody tr th {\n",
              "        vertical-align: top;\n",
              "    }\n",
              "\n",
              "    .dataframe thead th {\n",
              "        text-align: right;\n",
              "    }\n",
              "</style>\n",
              "<table border=\"1\" class=\"dataframe\">\n",
              "  <thead>\n",
              "    <tr style=\"text-align: right;\">\n",
              "      <th></th>\n",
              "      <th>tweet</th>\n",
              "    </tr>\n",
              "  </thead>\n",
              "  <tbody>\n",
              "    <tr>\n",
              "      <th>0</th>\n",
              "      <td>The 1918 influenza outbreak is the closest com...</td>\n",
              "    </tr>\n",
              "    <tr>\n",
              "      <th>1</th>\n",
              "      <td>Most of my conversations these days are about ...</td>\n",
              "    </tr>\n",
              "    <tr>\n",
              "      <th>2</th>\n",
              "      <td>Thank you for the conversation and partnership...</td>\n",
              "    </tr>\n",
              "    <tr>\n",
              "      <th>3</th>\n",
              "      <td>I’m hopeful that this program will improve our...</td>\n",
              "    </tr>\n",
              "    <tr>\n",
              "      <th>4</th>\n",
              "      <td>Class of 2020, these are not easy times. But w...</td>\n",
              "    </tr>\n",
              "  </tbody>\n",
              "</table>\n",
              "</div>"
            ],
            "text/plain": [
              "                                               tweet\n",
              "0  The 1918 influenza outbreak is the closest com...\n",
              "1  Most of my conversations these days are about ...\n",
              "2  Thank you for the conversation and partnership...\n",
              "3  I’m hopeful that this program will improve our...\n",
              "4  Class of 2020, these are not easy times. But w..."
            ]
          },
          "metadata": {
            "tags": []
          },
          "execution_count": 52
        }
      ]
    },
    {
      "cell_type": "code",
      "metadata": {
        "id": "gXBCvZ0gguKe",
        "colab_type": "code",
        "colab": {}
      },
      "source": [
        "import re\n",
        "def CleanText(text):\n",
        "  text = re.sub(r'@[A-Za-z0-9]+','',text)\n",
        "  text = re.sub(r'#','',text)\n",
        "  text = re.sub(r'RT[\\s]+','',text)\n",
        "  text = re.sub(r'https?:\\/\\/\\s+','',text)\n",
        "  text = re.sub(r'-','',text)\n",
        "  text = re.sub(r'_','',text)\n",
        "  return text\n",
        "\n"
      ],
      "execution_count": 0,
      "outputs": []
    },
    {
      "cell_type": "code",
      "metadata": {
        "id": "i7eUlmp2ijgU",
        "colab_type": "code",
        "colab": {
          "base_uri": "https://localhost:8080/",
          "height": 118
        },
        "outputId": "36b10c1d-2c41-4c06-b338-3ba07236bab9"
      },
      "source": [
        "text['tweet'] = text['tweet'].apply(CleanText)"
      ],
      "execution_count": 54,
      "outputs": [
        {
          "output_type": "stream",
          "text": [
            "/usr/local/lib/python3.6/dist-packages/ipykernel_launcher.py:1: SettingWithCopyWarning: \n",
            "A value is trying to be set on a copy of a slice from a DataFrame.\n",
            "Try using .loc[row_indexer,col_indexer] = value instead\n",
            "\n",
            "See the caveats in the documentation: https://pandas.pydata.org/pandas-docs/stable/user_guide/indexing.html#returning-a-view-versus-a-copy\n",
            "  \"\"\"Entry point for launching an IPython kernel.\n"
          ],
          "name": "stderr"
        }
      ]
    },
    {
      "cell_type": "code",
      "metadata": {
        "id": "XyDMUGWBiuf7",
        "colab_type": "code",
        "colab": {
          "base_uri": "https://localhost:8080/",
          "height": 1000
        },
        "outputId": "7d9e5708-d342-4a46-d4c7-ef009517b6fa"
      },
      "source": [
        "text"
      ],
      "execution_count": 55,
      "outputs": [
        {
          "output_type": "execute_result",
          "data": {
            "text/html": [
              "<div>\n",
              "<style scoped>\n",
              "    .dataframe tbody tr th:only-of-type {\n",
              "        vertical-align: middle;\n",
              "    }\n",
              "\n",
              "    .dataframe tbody tr th {\n",
              "        vertical-align: top;\n",
              "    }\n",
              "\n",
              "    .dataframe thead th {\n",
              "        text-align: right;\n",
              "    }\n",
              "</style>\n",
              "<table border=\"1\" class=\"dataframe\">\n",
              "  <thead>\n",
              "    <tr style=\"text-align: right;\">\n",
              "      <th></th>\n",
              "      <th>tweet</th>\n",
              "    </tr>\n",
              "  </thead>\n",
              "  <tbody>\n",
              "    <tr>\n",
              "      <th>0</th>\n",
              "      <td>The 1918 influenza outbreak is the closest com...</td>\n",
              "    </tr>\n",
              "    <tr>\n",
              "      <th>1</th>\n",
              "      <td>Most of my conversations these days are about ...</td>\n",
              "    </tr>\n",
              "    <tr>\n",
              "      <th>2</th>\n",
              "      <td>Thank you for the conversation and partnership...</td>\n",
              "    </tr>\n",
              "    <tr>\n",
              "      <th>3</th>\n",
              "      <td>I’m hopeful that this program will improve our...</td>\n",
              "    </tr>\n",
              "    <tr>\n",
              "      <th>4</th>\n",
              "      <td>Class of 2020, these are not easy times. But w...</td>\n",
              "    </tr>\n",
              "    <tr>\n",
              "      <th>5</th>\n",
              "      <td>There are over 100 different coronavirus vacci...</td>\n",
              "    </tr>\n",
              "    <tr>\n",
              "      <th>6</th>\n",
              "      <td>Humankind has never had a more urgent task tha...</td>\n",
              "    </tr>\n",
              "    <tr>\n",
              "      <th>7</th>\n",
              "      <td>We don't yet have all the tools we need to sto...</td>\n",
              "    </tr>\n",
              "    <tr>\n",
              "      <th>8</th>\n",
              "      <td>This is a great introduction to computer scien...</td>\n",
              "    </tr>\n",
              "    <tr>\n",
              "      <th>9</th>\n",
              "      <td>Halting funding for the World Health Organizat...</td>\n",
              "    </tr>\n",
              "    <tr>\n",
              "      <th>10</th>\n",
              "      <td>. does an amazing job capturing the heroism of...</td>\n",
              "    </tr>\n",
              "    <tr>\n",
              "      <th>11</th>\n",
              "      <td>On WorldHealthDay — and every day — I want to ...</td>\n",
              "    </tr>\n",
              "    <tr>\n",
              "      <th>12</th>\n",
              "      <td>I always enjoy chatting with , even though we ...</td>\n",
              "    </tr>\n",
              "    <tr>\n",
              "      <th>13</th>\n",
              "      <td>It’s encouraging to see the first projects beg...</td>\n",
              "    </tr>\n",
              "    <tr>\n",
              "      <th>14</th>\n",
              "      <td>I’m excited to join the  Daily Homeroom today ...</td>\n",
              "    </tr>\n",
              "    <tr>\n",
              "      <th>15</th>\n",
              "      <td>If we make the right decisions now—informed by...</td>\n",
              "    </tr>\n",
              "    <tr>\n",
              "      <th>16</th>\n",
              "      <td>In the meantime, frontline health care workers...</td>\n",
              "    </tr>\n",
              "    <tr>\n",
              "      <th>17</th>\n",
              "      <td>All the work that rich countries are doing now...</td>\n",
              "    </tr>\n",
              "    <tr>\n",
              "      <th>18</th>\n",
              "      <td>If everything goes well, there might be an eff...</td>\n",
              "    </tr>\n",
              "    <tr>\n",
              "      <th>19</th>\n",
              "      <td>Work is going full speed on potential treatmen...</td>\n",
              "    </tr>\n",
              "    <tr>\n",
              "      <th>20</th>\n",
              "      <td>There’s been some progress on more efficient t...</td>\n",
              "    </tr>\n",
              "    <tr>\n",
              "      <th>21</th>\n",
              "      <td>The federal government needs to step up on tes...</td>\n",
              "    </tr>\n",
              "    <tr>\n",
              "      <th>22</th>\n",
              "      <td>Extreme physical distancing measures will make...</td>\n",
              "    </tr>\n",
              "    <tr>\n",
              "      <th>23</th>\n",
              "      <td>There’s no question the United States missed t...</td>\n",
              "    </tr>\n",
              "    <tr>\n",
              "      <th>24</th>\n",
              "      <td>I’m inspired by the generosity of everyone who...</td>\n",
              "    </tr>\n",
              "    <tr>\n",
              "      <th>25</th>\n",
              "      <td>One of the questions I am most often asked abo...</td>\n",
              "    </tr>\n",
              "    <tr>\n",
              "      <th>26</th>\n",
              "      <td>This impressive new tool from UW will help hos...</td>\n",
              "    </tr>\n",
              "    <tr>\n",
              "      <th>27</th>\n",
              "      <td>This is encouraging news, but we still have a ...</td>\n",
              "    </tr>\n",
              "    <tr>\n",
              "      <th>28</th>\n",
              "      <td>There are few people I’ve learned more from ov...</td>\n",
              "    </tr>\n",
              "    <tr>\n",
              "      <th>29</th>\n",
              "      <td>I’ve been impressed by governors across the co...</td>\n",
              "    </tr>\n",
              "    <tr>\n",
              "      <th>30</th>\n",
              "      <td>Thanks to Norway and Prime Minister solberg fo...</td>\n",
              "    </tr>\n",
              "    <tr>\n",
              "      <th>31</th>\n",
              "      <td>The international response will require fundin...</td>\n",
              "    </tr>\n",
              "    <tr>\n",
              "      <th>32</th>\n",
              "      <td>Lots of people in Seattle have asked how they ...</td>\n",
              "    </tr>\n",
              "    <tr>\n",
              "      <th>33</th>\n",
              "      <td>Thanks for your leadership, . This is an inspi...</td>\n",
              "    </tr>\n",
              "    <tr>\n",
              "      <th>34</th>\n",
              "      <td>Teachers are doing incredible work to keep kid...</td>\n",
              "    </tr>\n",
              "    <tr>\n",
              "      <th>35</th>\n",
              "      <td>I’m connecting live with  and  to talk about w...</td>\n",
              "    </tr>\n",
              "  </tbody>\n",
              "</table>\n",
              "</div>"
            ],
            "text/plain": [
              "                                                tweet\n",
              "0   The 1918 influenza outbreak is the closest com...\n",
              "1   Most of my conversations these days are about ...\n",
              "2   Thank you for the conversation and partnership...\n",
              "3   I’m hopeful that this program will improve our...\n",
              "4   Class of 2020, these are not easy times. But w...\n",
              "5   There are over 100 different coronavirus vacci...\n",
              "6   Humankind has never had a more urgent task tha...\n",
              "7   We don't yet have all the tools we need to sto...\n",
              "8   This is a great introduction to computer scien...\n",
              "9   Halting funding for the World Health Organizat...\n",
              "10  . does an amazing job capturing the heroism of...\n",
              "11  On WorldHealthDay — and every day — I want to ...\n",
              "12  I always enjoy chatting with , even though we ...\n",
              "13  It’s encouraging to see the first projects beg...\n",
              "14  I’m excited to join the  Daily Homeroom today ...\n",
              "15  If we make the right decisions now—informed by...\n",
              "16  In the meantime, frontline health care workers...\n",
              "17  All the work that rich countries are doing now...\n",
              "18  If everything goes well, there might be an eff...\n",
              "19  Work is going full speed on potential treatmen...\n",
              "20  There’s been some progress on more efficient t...\n",
              "21  The federal government needs to step up on tes...\n",
              "22  Extreme physical distancing measures will make...\n",
              "23  There’s no question the United States missed t...\n",
              "24  I’m inspired by the generosity of everyone who...\n",
              "25  One of the questions I am most often asked abo...\n",
              "26  This impressive new tool from UW will help hos...\n",
              "27  This is encouraging news, but we still have a ...\n",
              "28  There are few people I’ve learned more from ov...\n",
              "29  I’ve been impressed by governors across the co...\n",
              "30  Thanks to Norway and Prime Minister solberg fo...\n",
              "31  The international response will require fundin...\n",
              "32  Lots of people in Seattle have asked how they ...\n",
              "33  Thanks for your leadership, . This is an inspi...\n",
              "34  Teachers are doing incredible work to keep kid...\n",
              "35  I’m connecting live with  and  to talk about w..."
            ]
          },
          "metadata": {
            "tags": []
          },
          "execution_count": 55
        }
      ]
    },
    {
      "cell_type": "code",
      "metadata": {
        "id": "ZyOu9aFhi31D",
        "colab_type": "code",
        "colab": {}
      },
      "source": [
        "\n",
        "def get_subjectiviy(text):\n",
        "  return TextBlob(text).sentiment.subjectivity"
      ],
      "execution_count": 0,
      "outputs": []
    },
    {
      "cell_type": "code",
      "metadata": {
        "id": "dqq8QRrLkpf3",
        "colab_type": "code",
        "colab": {}
      },
      "source": [
        "def get_polarity(text):\n",
        "  return TextBlob(text).sentiment.polarity"
      ],
      "execution_count": 0,
      "outputs": []
    },
    {
      "cell_type": "code",
      "metadata": {
        "id": "Wn4OZGCHlHyd",
        "colab_type": "code",
        "colab": {
          "base_uri": "https://localhost:8080/",
          "height": 118
        },
        "outputId": "b1eec038-9425-4290-bc98-2016d411234e"
      },
      "source": [
        "text['Subjectivity'] = text['tweet'].apply(get_subjectiviy)"
      ],
      "execution_count": 58,
      "outputs": [
        {
          "output_type": "stream",
          "text": [
            "/usr/local/lib/python3.6/dist-packages/ipykernel_launcher.py:1: SettingWithCopyWarning: \n",
            "A value is trying to be set on a copy of a slice from a DataFrame.\n",
            "Try using .loc[row_indexer,col_indexer] = value instead\n",
            "\n",
            "See the caveats in the documentation: https://pandas.pydata.org/pandas-docs/stable/user_guide/indexing.html#returning-a-view-versus-a-copy\n",
            "  \"\"\"Entry point for launching an IPython kernel.\n"
          ],
          "name": "stderr"
        }
      ]
    },
    {
      "cell_type": "code",
      "metadata": {
        "id": "Ijo2JlgMlUoP",
        "colab_type": "code",
        "colab": {
          "base_uri": "https://localhost:8080/",
          "height": 118
        },
        "outputId": "631dcb75-b2b6-423c-c1a1-c930858165d8"
      },
      "source": [
        "text['Polarity'] = text['tweet'].apply(get_polarity)"
      ],
      "execution_count": 59,
      "outputs": [
        {
          "output_type": "stream",
          "text": [
            "/usr/local/lib/python3.6/dist-packages/ipykernel_launcher.py:1: SettingWithCopyWarning: \n",
            "A value is trying to be set on a copy of a slice from a DataFrame.\n",
            "Try using .loc[row_indexer,col_indexer] = value instead\n",
            "\n",
            "See the caveats in the documentation: https://pandas.pydata.org/pandas-docs/stable/user_guide/indexing.html#returning-a-view-versus-a-copy\n",
            "  \"\"\"Entry point for launching an IPython kernel.\n"
          ],
          "name": "stderr"
        }
      ]
    },
    {
      "cell_type": "code",
      "metadata": {
        "id": "kd3uACRHmj70",
        "colab_type": "code",
        "colab": {
          "base_uri": "https://localhost:8080/",
          "height": 195
        },
        "outputId": "e47cad73-9445-4c1d-90c2-9f2597a6eb02"
      },
      "source": [
        "text.head()"
      ],
      "execution_count": 60,
      "outputs": [
        {
          "output_type": "execute_result",
          "data": {
            "text/html": [
              "<div>\n",
              "<style scoped>\n",
              "    .dataframe tbody tr th:only-of-type {\n",
              "        vertical-align: middle;\n",
              "    }\n",
              "\n",
              "    .dataframe tbody tr th {\n",
              "        vertical-align: top;\n",
              "    }\n",
              "\n",
              "    .dataframe thead th {\n",
              "        text-align: right;\n",
              "    }\n",
              "</style>\n",
              "<table border=\"1\" class=\"dataframe\">\n",
              "  <thead>\n",
              "    <tr style=\"text-align: right;\">\n",
              "      <th></th>\n",
              "      <th>tweet</th>\n",
              "      <th>Subjectivity</th>\n",
              "      <th>Polarity</th>\n",
              "    </tr>\n",
              "  </thead>\n",
              "  <tbody>\n",
              "    <tr>\n",
              "      <th>0</th>\n",
              "      <td>The 1918 influenza outbreak is the closest com...</td>\n",
              "      <td>0.761905</td>\n",
              "      <td>0.028571</td>\n",
              "    </tr>\n",
              "    <tr>\n",
              "      <th>1</th>\n",
              "      <td>Most of my conversations these days are about ...</td>\n",
              "      <td>0.325000</td>\n",
              "      <td>0.058333</td>\n",
              "    </tr>\n",
              "    <tr>\n",
              "      <th>2</th>\n",
              "      <td>Thank you for the conversation and partnership...</td>\n",
              "      <td>0.316667</td>\n",
              "      <td>0.058333</td>\n",
              "    </tr>\n",
              "    <tr>\n",
              "      <th>3</th>\n",
              "      <td>I’m hopeful that this program will improve our...</td>\n",
              "      <td>0.375000</td>\n",
              "      <td>-0.125000</td>\n",
              "    </tr>\n",
              "    <tr>\n",
              "      <th>4</th>\n",
              "      <td>Class of 2020, these are not easy times. But w...</td>\n",
              "      <td>0.833333</td>\n",
              "      <td>-0.216667</td>\n",
              "    </tr>\n",
              "  </tbody>\n",
              "</table>\n",
              "</div>"
            ],
            "text/plain": [
              "                                               tweet  Subjectivity  Polarity\n",
              "0  The 1918 influenza outbreak is the closest com...      0.761905  0.028571\n",
              "1  Most of my conversations these days are about ...      0.325000  0.058333\n",
              "2  Thank you for the conversation and partnership...      0.316667  0.058333\n",
              "3  I’m hopeful that this program will improve our...      0.375000 -0.125000\n",
              "4  Class of 2020, these are not easy times. But w...      0.833333 -0.216667"
            ]
          },
          "metadata": {
            "tags": []
          },
          "execution_count": 60
        }
      ]
    },
    {
      "cell_type": "code",
      "metadata": {
        "id": "aV1C3M-6mmcb",
        "colab_type": "code",
        "colab": {
          "base_uri": "https://localhost:8080/",
          "height": 198
        },
        "outputId": "3ac07204-e275-4320-acf7-1586466abd6a"
      },
      "source": [
        "all_words = ' '.join([twts for twts in text['tweet']])\n",
        "word_cloud = WordCloud(random_state=21,max_font_size=119).generate(all_words)\n",
        "plt.imshow(word_cloud,interpolation='bilinear')\n",
        "plt.axis('off')\n",
        "plt.show()"
      ],
      "execution_count": 61,
      "outputs": [
        {
          "output_type": "display_data",
          "data": {
            "image/png": "[encoded data removed]",
            "text/plain": [
              "<Figure size 432x288 with 1 Axes>"
            ]
          },
          "metadata": {
            "tags": [],
            "needs_background": "light"
          }
        }
      ]
    },
    {
      "cell_type": "code",
      "metadata": {
        "id": "aNt_83mFnxD0",
        "colab_type": "code",
        "colab": {}
      },
      "source": [
        "def analysis(score):\n",
        "  if score < 0:\n",
        "    return 'negative'\n",
        "  elif score == 0:\n",
        "    return 'neutral'\n",
        "  else:\n",
        "    return 'positive'"
      ],
      "execution_count": 0,
      "outputs": []
    },
    {
      "cell_type": "code",
      "metadata": {
        "id": "pXOmpQSjo72i",
        "colab_type": "code",
        "colab": {
          "base_uri": "https://localhost:8080/",
          "height": 118
        },
        "outputId": "d782bfae-a901-41e1-fdf5-dbc51d086c84"
      },
      "source": [
        "text['analysis'] = text['Polarity'].apply(analysis)"
      ],
      "execution_count": 64,
      "outputs": [
        {
          "output_type": "stream",
          "text": [
            "/usr/local/lib/python3.6/dist-packages/ipykernel_launcher.py:1: SettingWithCopyWarning: \n",
            "A value is trying to be set on a copy of a slice from a DataFrame.\n",
            "Try using .loc[row_indexer,col_indexer] = value instead\n",
            "\n",
            "See the caveats in the documentation: https://pandas.pydata.org/pandas-docs/stable/user_guide/indexing.html#returning-a-view-versus-a-copy\n",
            "  \"\"\"Entry point for launching an IPython kernel.\n"
          ],
          "name": "stderr"
        }
      ]
    },
    {
      "cell_type": "code",
      "metadata": {
        "id": "zOzuCWwdpL77",
        "colab_type": "code",
        "colab": {
          "base_uri": "https://localhost:8080/",
          "height": 195
        },
        "outputId": "57ce67be-0ff4-4272-9969-c0369174e049"
      },
      "source": [
        "text.head()"
      ],
      "execution_count": 65,
      "outputs": [
        {
          "output_type": "execute_result",
          "data": {
            "text/html": [
              "<div>\n",
              "<style scoped>\n",
              "    .dataframe tbody tr th:only-of-type {\n",
              "        vertical-align: middle;\n",
              "    }\n",
              "\n",
              "    .dataframe tbody tr th {\n",
              "        vertical-align: top;\n",
              "    }\n",
              "\n",
              "    .dataframe thead th {\n",
              "        text-align: right;\n",
              "    }\n",
              "</style>\n",
              "<table border=\"1\" class=\"dataframe\">\n",
              "  <thead>\n",
              "    <tr style=\"text-align: right;\">\n",
              "      <th></th>\n",
              "      <th>tweet</th>\n",
              "      <th>Subjectivity</th>\n",
              "      <th>Polarity</th>\n",
              "      <th>analysis</th>\n",
              "    </tr>\n",
              "  </thead>\n",
              "  <tbody>\n",
              "    <tr>\n",
              "      <th>0</th>\n",
              "      <td>The 1918 influenza outbreak is the closest com...</td>\n",
              "      <td>0.761905</td>\n",
              "      <td>0.028571</td>\n",
              "      <td>positive</td>\n",
              "    </tr>\n",
              "    <tr>\n",
              "      <th>1</th>\n",
              "      <td>Most of my conversations these days are about ...</td>\n",
              "      <td>0.325000</td>\n",
              "      <td>0.058333</td>\n",
              "      <td>positive</td>\n",
              "    </tr>\n",
              "    <tr>\n",
              "      <th>2</th>\n",
              "      <td>Thank you for the conversation and partnership...</td>\n",
              "      <td>0.316667</td>\n",
              "      <td>0.058333</td>\n",
              "      <td>positive</td>\n",
              "    </tr>\n",
              "    <tr>\n",
              "      <th>3</th>\n",
              "      <td>I’m hopeful that this program will improve our...</td>\n",
              "      <td>0.375000</td>\n",
              "      <td>-0.125000</td>\n",
              "      <td>negative</td>\n",
              "    </tr>\n",
              "    <tr>\n",
              "      <th>4</th>\n",
              "      <td>Class of 2020, these are not easy times. But w...</td>\n",
              "      <td>0.833333</td>\n",
              "      <td>-0.216667</td>\n",
              "      <td>negative</td>\n",
              "    </tr>\n",
              "  </tbody>\n",
              "</table>\n",
              "</div>"
            ],
            "text/plain": [
              "                                               tweet  ...  analysis\n",
              "0  The 1918 influenza outbreak is the closest com...  ...  positive\n",
              "1  Most of my conversations these days are about ...  ...  positive\n",
              "2  Thank you for the conversation and partnership...  ...  positive\n",
              "3  I’m hopeful that this program will improve our...  ...  negative\n",
              "4  Class of 2020, these are not easy times. But w...  ...  negative\n",
              "\n",
              "[5 rows x 4 columns]"
            ]
          },
          "metadata": {
            "tags": []
          },
          "execution_count": 65
        }
      ]
    },
    {
      "cell_type": "code",
      "metadata": {
        "id": "uwL7r5JOpNwU",
        "colab_type": "code",
        "colab": {
          "base_uri": "https://localhost:8080/",
          "height": 404
        },
        "outputId": "7acb113a-54c4-4c56-d46e-231a43c66abf"
      },
      "source": [
        "plt.figure(figsize=(8,6))\n",
        "for i in range(0,text.shape[0]):\n",
        "  plt.scatter(text['Polarity'][i],text['Subjectivity'][i],color = 'Blue')\n",
        "plt.xlabel('Polarity')\n",
        "plt.ylabel('Subjectivity')\n",
        "plt.title('Sentiment_anaysis')\n",
        "plt.show()"
      ],
      "execution_count": 68,
      "outputs": [
        {
          "output_type": "display_data",
          "data": {
            "image/png": "[encoded data removed]",
            "text/plain": [
              "<Figure size 576x432 with 1 Axes>"
            ]
          },
          "metadata": {
            "tags": [],
            "needs_background": "light"
          }
        }
      ]
    },
    {
      "cell_type": "code",
      "metadata": {
        "id": "0E8eiYrrq-Iz",
        "colab_type": "code",
        "colab": {}
      },
      "source": [
        ""
      ],
      "execution_count": 0,
      "outputs": []
    }
  ]
}
